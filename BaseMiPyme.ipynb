{
 "cells": [
  {
   "cell_type": "markdown",
   "id": "f26c65fc",
   "metadata": {},
   "source": [
    "### Para comenzar el analisis importamos ciertos elementos que vamos a utilizar en primera instancia. Luego se importaran los que sean necesarios para continuar el analisis."
   ]
  },
  {
   "cell_type": "code",
   "execution_count": 2,
   "id": "05e59c34",
   "metadata": {},
   "outputs": [],
   "source": [
    "import pandas as pd\n",
    "df = pd.read_csv(\"BaseMiPyme.csv\")\n",
    "%matplotlib inline\n",
    "import matplotlib.pyplot as plt\n",
    "import seaborn as sns\n",
    "\n"
   ]
  },
  {
   "cell_type": "code",
   "execution_count": 3,
   "id": "44b3dad4",
   "metadata": {},
   "outputs": [
    {
     "data": {
      "text/html": [
       "<div>\n",
       "<style scoped>\n",
       "    .dataframe tbody tr th:only-of-type {\n",
       "        vertical-align: middle;\n",
       "    }\n",
       "\n",
       "    .dataframe tbody tr th {\n",
       "        vertical-align: top;\n",
       "    }\n",
       "\n",
       "    .dataframe thead th {\n",
       "        text-align: right;\n",
       "    }\n",
       "</style>\n",
       "<table border=\"1\" class=\"dataframe\">\n",
       "  <thead>\n",
       "    <tr style=\"text-align: right;\">\n",
       "      <th></th>\n",
       "      <th>Unnamed: 0</th>\n",
       "      <th>ID</th>\n",
       "      <th>Regimen_Tributario</th>\n",
       "      <th>Emision_certificado</th>\n",
       "      <th>Vencimiento_certificado</th>\n",
       "      <th>Categoria</th>\n",
       "      <th>Sector</th>\n",
       "      <th>Provincia</th>\n",
       "      <th>ID_provincia</th>\n",
       "      <th>CLAE6</th>\n",
       "      <th>Vigente</th>\n",
       "    </tr>\n",
       "  </thead>\n",
       "  <tbody>\n",
       "    <tr>\n",
       "      <th>0</th>\n",
       "      <td>1</td>\n",
       "      <td>2653861</td>\n",
       "      <td>Autonomos</td>\n",
       "      <td>2016-06-17</td>\n",
       "      <td>2017-05-31</td>\n",
       "      <td>micro</td>\n",
       "      <td>Industria</td>\n",
       "      <td>BUENOS AIRES</td>\n",
       "      <td>6</td>\n",
       "      <td>222090</td>\n",
       "      <td>0</td>\n",
       "    </tr>\n",
       "    <tr>\n",
       "      <th>1</th>\n",
       "      <td>2</td>\n",
       "      <td>1207103</td>\n",
       "      <td>Autonomos</td>\n",
       "      <td>2016-06-17</td>\n",
       "      <td>2017-05-31</td>\n",
       "      <td>micro</td>\n",
       "      <td>Servicios</td>\n",
       "      <td>MENDOZA</td>\n",
       "      <td>50</td>\n",
       "      <td>960990</td>\n",
       "      <td>0</td>\n",
       "    </tr>\n",
       "    <tr>\n",
       "      <th>2</th>\n",
       "      <td>3</td>\n",
       "      <td>1782167</td>\n",
       "      <td>Autonomos</td>\n",
       "      <td>2016-06-17</td>\n",
       "      <td>2017-05-31</td>\n",
       "      <td>micro</td>\n",
       "      <td>Servicios</td>\n",
       "      <td>SANTA FE</td>\n",
       "      <td>82</td>\n",
       "      <td>492290</td>\n",
       "      <td>0</td>\n",
       "    </tr>\n",
       "    <tr>\n",
       "      <th>3</th>\n",
       "      <td>4</td>\n",
       "      <td>2213893</td>\n",
       "      <td>Autonomos</td>\n",
       "      <td>2016-06-20</td>\n",
       "      <td>2017-05-31</td>\n",
       "      <td>micro</td>\n",
       "      <td>Servicios</td>\n",
       "      <td>SANTIAGO DEL ESTERO</td>\n",
       "      <td>86</td>\n",
       "      <td>107129</td>\n",
       "      <td>0</td>\n",
       "    </tr>\n",
       "    <tr>\n",
       "      <th>4</th>\n",
       "      <td>5</td>\n",
       "      <td>2467540</td>\n",
       "      <td>Autonomos</td>\n",
       "      <td>2016-06-20</td>\n",
       "      <td>2017-05-31</td>\n",
       "      <td>micro</td>\n",
       "      <td>Industria</td>\n",
       "      <td>BUENOS AIRES</td>\n",
       "      <td>6</td>\n",
       "      <td>466931</td>\n",
       "      <td>0</td>\n",
       "    </tr>\n",
       "  </tbody>\n",
       "</table>\n",
       "</div>"
      ],
      "text/plain": [
       "   Unnamed: 0       ID Regimen_Tributario Emision_certificado  \\\n",
       "0           1  2653861          Autonomos          2016-06-17   \n",
       "1           2  1207103          Autonomos          2016-06-17   \n",
       "2           3  1782167          Autonomos          2016-06-17   \n",
       "3           4  2213893          Autonomos          2016-06-20   \n",
       "4           5  2467540          Autonomos          2016-06-20   \n",
       "\n",
       "  Vencimiento_certificado Categoria     Sector            Provincia  \\\n",
       "0              2017-05-31     micro  Industria         BUENOS AIRES   \n",
       "1              2017-05-31     micro  Servicios              MENDOZA   \n",
       "2              2017-05-31     micro  Servicios             SANTA FE   \n",
       "3              2017-05-31     micro  Servicios  SANTIAGO DEL ESTERO   \n",
       "4              2017-05-31     micro  Industria         BUENOS AIRES   \n",
       "\n",
       "   ID_provincia   CLAE6  Vigente  \n",
       "0             6  222090        0  \n",
       "1            50  960990        0  \n",
       "2            82  492290        0  \n",
       "3            86  107129        0  \n",
       "4             6  466931        0  "
      ]
     },
     "execution_count": 3,
     "metadata": {},
     "output_type": "execute_result"
    }
   ],
   "source": [
    "df.head() # Para ver como se compone la base de datos."
   ]
  },
  {
   "cell_type": "code",
   "execution_count": 4,
   "id": "629aa93e",
   "metadata": {},
   "outputs": [],
   "source": [
    "df.drop(['CLAE6', 'ID_provincia', 'Unnamed: 0', 'ID'], axis = 'columns', inplace=True) \n",
    "# Eliminamos columnas que no vamos a utilizar en el analisis"
   ]
  },
  {
   "cell_type": "code",
   "execution_count": 5,
   "id": "9bcf65a0",
   "metadata": {},
   "outputs": [
    {
     "data": {
      "text/html": [
       "<div>\n",
       "<style scoped>\n",
       "    .dataframe tbody tr th:only-of-type {\n",
       "        vertical-align: middle;\n",
       "    }\n",
       "\n",
       "    .dataframe tbody tr th {\n",
       "        vertical-align: top;\n",
       "    }\n",
       "\n",
       "    .dataframe thead th {\n",
       "        text-align: right;\n",
       "    }\n",
       "</style>\n",
       "<table border=\"1\" class=\"dataframe\">\n",
       "  <thead>\n",
       "    <tr style=\"text-align: right;\">\n",
       "      <th></th>\n",
       "      <th>Regimen_Tributario</th>\n",
       "      <th>Emision_certificado</th>\n",
       "      <th>Vencimiento_certificado</th>\n",
       "      <th>Categoria</th>\n",
       "      <th>Sector</th>\n",
       "      <th>Provincia</th>\n",
       "      <th>Vigente</th>\n",
       "    </tr>\n",
       "  </thead>\n",
       "  <tbody>\n",
       "    <tr>\n",
       "      <th>0</th>\n",
       "      <td>Autonomos</td>\n",
       "      <td>2016-06-17</td>\n",
       "      <td>2017-05-31</td>\n",
       "      <td>micro</td>\n",
       "      <td>Industria</td>\n",
       "      <td>BUENOS AIRES</td>\n",
       "      <td>0</td>\n",
       "    </tr>\n",
       "    <tr>\n",
       "      <th>1</th>\n",
       "      <td>Autonomos</td>\n",
       "      <td>2016-06-17</td>\n",
       "      <td>2017-05-31</td>\n",
       "      <td>micro</td>\n",
       "      <td>Servicios</td>\n",
       "      <td>MENDOZA</td>\n",
       "      <td>0</td>\n",
       "    </tr>\n",
       "    <tr>\n",
       "      <th>2</th>\n",
       "      <td>Autonomos</td>\n",
       "      <td>2016-06-17</td>\n",
       "      <td>2017-05-31</td>\n",
       "      <td>micro</td>\n",
       "      <td>Servicios</td>\n",
       "      <td>SANTA FE</td>\n",
       "      <td>0</td>\n",
       "    </tr>\n",
       "    <tr>\n",
       "      <th>3</th>\n",
       "      <td>Autonomos</td>\n",
       "      <td>2016-06-20</td>\n",
       "      <td>2017-05-31</td>\n",
       "      <td>micro</td>\n",
       "      <td>Servicios</td>\n",
       "      <td>SANTIAGO DEL ESTERO</td>\n",
       "      <td>0</td>\n",
       "    </tr>\n",
       "    <tr>\n",
       "      <th>4</th>\n",
       "      <td>Autonomos</td>\n",
       "      <td>2016-06-20</td>\n",
       "      <td>2017-05-31</td>\n",
       "      <td>micro</td>\n",
       "      <td>Industria</td>\n",
       "      <td>BUENOS AIRES</td>\n",
       "      <td>0</td>\n",
       "    </tr>\n",
       "  </tbody>\n",
       "</table>\n",
       "</div>"
      ],
      "text/plain": [
       "  Regimen_Tributario Emision_certificado Vencimiento_certificado Categoria  \\\n",
       "0          Autonomos          2016-06-17              2017-05-31     micro   \n",
       "1          Autonomos          2016-06-17              2017-05-31     micro   \n",
       "2          Autonomos          2016-06-17              2017-05-31     micro   \n",
       "3          Autonomos          2016-06-20              2017-05-31     micro   \n",
       "4          Autonomos          2016-06-20              2017-05-31     micro   \n",
       "\n",
       "      Sector            Provincia  Vigente  \n",
       "0  Industria         BUENOS AIRES        0  \n",
       "1  Servicios              MENDOZA        0  \n",
       "2  Servicios             SANTA FE        0  \n",
       "3  Servicios  SANTIAGO DEL ESTERO        0  \n",
       "4  Industria         BUENOS AIRES        0  "
      ]
     },
     "execution_count": 5,
     "metadata": {},
     "output_type": "execute_result"
    }
   ],
   "source": [
    "df.head() # Volvemos a mostrar como se compone la base de datos con las columnas limpias de valores que no se utilizaran."
   ]
  },
  {
   "cell_type": "markdown",
   "id": "f510699d",
   "metadata": {},
   "source": [
    "### A) DATA WRANGLING"
   ]
  },
  {
   "cell_type": "markdown",
   "id": "69a2b46d",
   "metadata": {},
   "source": [
    "#### En el caso de esta base de datos, esta muy limpia y no hay valores nulos, por lo que la limpieza de datos es muy corta con respecto a otras bases. Se deja el codigo que prueba que no hay datos nulos y una comprobación adicional a modo de ejemplo."
   ]
  },
  {
   "cell_type": "code",
   "execution_count": 6,
   "id": "a618423a",
   "metadata": {},
   "outputs": [
    {
     "name": "stdout",
     "output_type": "stream",
     "text": [
      "False\n"
     ]
    }
   ],
   "source": [
    "# Hacemos este chequeo para ver si hay algun valor NAN en el dataframe, si sale TRUE quiere decir que si hay al menos un valor\n",
    "# NAN y deberemos verificar como resolverlo tambien.\n",
    "check_for_nan = df.isnull().values.any()\n",
    "print (check_for_nan)"
   ]
  },
  {
   "cell_type": "code",
   "execution_count": 7,
   "id": "0ce966fc",
   "metadata": {},
   "outputs": [
    {
     "data": {
      "text/plain": [
       "Regimen_Tributario         0\n",
       "Emision_certificado        0\n",
       "Vencimiento_certificado    0\n",
       "Categoria                  0\n",
       "Sector                     0\n",
       "Provincia                  0\n",
       "Vigente                    0\n",
       "dtype: int64"
      ]
     },
     "execution_count": 7,
     "metadata": {},
     "output_type": "execute_result"
    }
   ],
   "source": [
    "df.isnull().sum() # Otra forma de corroborar que no faltan datos, nos muestra la suma de valores que faltan."
   ]
  },
  {
   "cell_type": "markdown",
   "id": "5350ef39",
   "metadata": {},
   "source": [
    "### B) VISUALIZANDO LAS VARIABLES"
   ]
  },
  {
   "cell_type": "code",
   "execution_count": 8,
   "id": "f5a23b13",
   "metadata": {},
   "outputs": [
    {
     "data": {
      "text/plain": [
       "Monotributo    978908\n",
       "Autonomos      607693\n",
       "Sociedades     344777\n",
       "Name: Regimen_Tributario, dtype: int64"
      ]
     },
     "execution_count": 8,
     "metadata": {},
     "output_type": "execute_result"
    }
   ],
   "source": [
    "df.Regimen_Tributario.value_counts()\n"
   ]
  },
  {
   "cell_type": "code",
   "execution_count": 9,
   "id": "c0548c3d",
   "metadata": {},
   "outputs": [
    {
     "data": {
      "image/png": "[encoded data removed]",
      "text/plain": [
       "<Figure size 432x288 with 1 Axes>"
      ]
     },
     "metadata": {
      "needs_background": "light"
     },
     "output_type": "display_data"
    },
    {
     "data": {
      "text/plain": [
       "<Figure size 432x288 with 0 Axes>"
      ]
     },
     "metadata": {},
     "output_type": "display_data"
    }
   ],
   "source": [
    "df['Regimen_Tributario'].hist(bins=50) # Vemos graficamente a su distribución\n",
    "plt.title('REGIMEN TRIBUTARIO AL QUE PERTENECEN')\n",
    "plt.grid(True)\n",
    "plt.show()\n",
    "plt.clf()"
   ]
  },
  {
   "cell_type": "code",
   "execution_count": 10,
   "id": "851fe9b0",
   "metadata": {},
   "outputs": [
    {
     "data": {
      "text/plain": [
       "micro     1846217\n",
       "peq         70209\n",
       "tramo1      14136\n",
       "tramo2        816\n",
       "Name: Categoria, dtype: int64"
      ]
     },
     "execution_count": 10,
     "metadata": {},
     "output_type": "execute_result"
    }
   ],
   "source": [
    "df.Categoria.value_counts()"
   ]
  },
  {
   "cell_type": "code",
   "execution_count": 11,
   "id": "2c825b36",
   "metadata": {},
   "outputs": [
    {
     "data": {
      "image/png": "[encoded data removed]",
      "text/plain": [
       "<Figure size 432x288 with 1 Axes>"
      ]
     },
     "metadata": {
      "needs_background": "light"
     },
     "output_type": "display_data"
    },
    {
     "data": {
      "text/plain": [
       "<Figure size 432x288 with 0 Axes>"
      ]
     },
     "metadata": {},
     "output_type": "display_data"
    }
   ],
   "source": [
    "df['Categoria'].hist(bins=50) # Vemos graficamente a su distribución\n",
    "plt.title('CATEGORIAS PYME')\n",
    "plt.grid(True)\n",
    "plt.show()\n",
    "plt.clf()"
   ]
  },
  {
   "cell_type": "code",
   "execution_count": 12,
   "id": "ea0c88a7",
   "metadata": {},
   "outputs": [
    {
     "data": {
      "text/plain": [
       "Servicios       945734\n",
       "Comercio        474979\n",
       "Industria       255688\n",
       "Agropecuario    166436\n",
       "Construccion     86610\n",
       "Mineria           1931\n",
       "Name: Sector, dtype: int64"
      ]
     },
     "execution_count": 12,
     "metadata": {},
     "output_type": "execute_result"
    }
   ],
   "source": [
    "df.Sector.value_counts()"
   ]
  },
  {
   "cell_type": "code",
   "execution_count": 13,
   "id": "a57caea8",
   "metadata": {},
   "outputs": [
    {
     "data": {
      "image/png": "[encoded data removed]",
      "text/plain": [
       "<Figure size 432x288 with 1 Axes>"
      ]
     },
     "metadata": {
      "needs_background": "light"
     },
     "output_type": "display_data"
    },
    {
     "data": {
      "text/plain": [
       "<Figure size 432x288 with 0 Axes>"
      ]
     },
     "metadata": {},
     "output_type": "display_data"
    }
   ],
   "source": [
    "df['Sector'].hist(bins=50) # Vemos graficamente a su distribución\n",
    "plt.title('SECTORES A LOS QUE PERTENECEN')\n",
    "plt.grid(True)\n",
    "plt.show()\n",
    "plt.clf()"
   ]
  },
  {
   "cell_type": "code",
   "execution_count": 14,
   "id": "f15d059d",
   "metadata": {},
   "outputs": [
    {
     "data": {
      "image/png": "[encoded data removed]",
      "text/plain": [
       "<Figure size 720x72 with 1 Axes>"
      ]
     },
     "metadata": {
      "needs_background": "light"
     },
     "output_type": "display_data"
    }
   ],
   "source": [
    "#Definimos la paleta de colores que usaremos en los graficos siguientes\n",
    "sns.palplot(sns.color_palette(\"tab10\"))"
   ]
  },
  {
   "cell_type": "code",
   "execution_count": 15,
   "id": "82ab4f7b",
   "metadata": {},
   "outputs": [
    {
     "data": {
      "text/plain": [
       "Text(0.5, 1.0, 'DISTRIBUCION DE PYMES SEGUN SU SECTOR COMERCIAL')"
      ]
     },
     "execution_count": 15,
     "metadata": {},
     "output_type": "execute_result"
    },
    {
     "data": {
      "image/png": "[encoded data removed]",
      "text/plain": [
       "<Figure size 1800x504 with 1 Axes>"
      ]
     },
     "metadata": {
      "needs_background": "light"
     },
     "output_type": "display_data"
    }
   ],
   "source": [
    "from matplotlib import rcParams\n",
    "\n",
    "rcParams['figure.figsize'] = 25,7 #Tamaño del grafico\n",
    "ax=sns.countplot(x=\"Regimen_Tributario\", hue=\"Sector\", data=df, palette=\"tab10\") #Graficar y definir el color\n",
    "ax.set_xlabel(\"Sectores\", fontsize = 15) #Texto en el eje X\n",
    "ax.set_ylabel(\"Cantidad de PyMES\", fontsize = 15) #Texto en el eje Y\n",
    "ax.set_title(\"DISTRIBUCION DE PYMES SEGUN SU SECTOR COMERCIAL\", fontsize = 20) #Texto del titulo"
   ]
  },
  {
   "cell_type": "code",
   "execution_count": 16,
   "id": "52699bbb",
   "metadata": {},
   "outputs": [
    {
     "data": {
      "text/plain": [
       "Text(0.5, 1.0, 'DISTRIBUCION DE PYMES SEGUN PROVINCIAS')"
      ]
     },
     "execution_count": 16,
     "metadata": {},
     "output_type": "execute_result"
    },
    {
     "data": {
      "image/png": "[encoded data removed]",
      "text/plain": [
       "<Figure size 1800x504 with 1 Axes>"
      ]
     },
     "metadata": {
      "needs_background": "light"
     },
     "output_type": "display_data"
    }
   ],
   "source": [
    "from matplotlib import rcParams\n",
    "\n",
    "rcParams['figure.figsize'] = 25,7 #Tamaño del grafico\n",
    "ax=sns.countplot(x=\"Provincia\", hue=\"Regimen_Tributario\", data=df, palette=\"tab10\") #Graficar y definir el color\n",
    "ax.set_xlabel(\"Sectores\", fontsize = 15) #Texto en el eje X\n",
    "ax.set_ylabel(\"Cantidad de PyMES\", fontsize = 15) #Texto en el eje Y\n",
    "ax.set_title(\"DISTRIBUCION DE PYMES SEGUN PROVINCIAS\", fontsize = 20) #Texto del titulo"
   ]
  }
 ],
 "metadata": {
  "kernelspec": {
   "display_name": "Python 3",
   "language": "python",
   "name": "python3"
  },
  "language_info": {
   "codemirror_mode": {
    "name": "ipython",
    "version": 3
   },
   "file_extension": ".py",
   "mimetype": "text/x-python",
   "name": "python",
   "nbconvert_exporter": "python",
   "pygments_lexer": "ipython3",
   "version": "3.9.4"
  }
 },
 "nbformat": 4,
 "nbformat_minor": 5
}
